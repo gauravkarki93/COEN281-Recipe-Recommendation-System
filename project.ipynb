{
 "cells": [
  {
   "cell_type": "markdown",
   "metadata": {},
   "source": [
    "### Step 1.  Data Preprocessing ###"
   ]
  },
  {
   "cell_type": "code",
   "execution_count": null,
   "metadata": {},
   "outputs": [],
   "source": [
    "print(\"nice\")"
   ]
  },
  {
   "cell_type": "code",
   "execution_count": null,
   "metadata": {},
   "outputs": [],
   "source": [
    "# Header Files\n",
    "import pandas as pd\n",
    "import csv"
   ]
  },
  {
   "cell_type": "code",
   "execution_count": null,
   "metadata": {},
   "outputs": [],
   "source": [
    "# Using Kaggle DataSet \n",
    "df = pd.read_csv('data/RAW_recipes.csv')\n",
    "recipeIngredients = df[['name','ingredients']]\n",
    "print(\"No. of recipes = \", len(recipeIngredients))\n",
    "print((recipeIngredients[0:10]))"
   ]
  },
  {
   "cell_type": "code",
   "execution_count": null,
   "metadata": {},
   "outputs": [],
   "source": [
    "#Using dataset from https://eightportions.com/datasets/Recipes/\n",
    "#Contains recipe name and list of ingredients used\n",
    "data1 = pd.read_json('data/recipes_raw_nosource_ar.json', orient = 'index')\n",
    "recipeIg1 = data1[['title','ingredients']]\n",
    "len1 = len(recipeIg1)\n",
    "\n",
    "data2 = pd.read_json('data/recipes_raw_nosource_epi.json', orient = 'index')\n",
    "recipeIg2 = data2[['title','ingredients']]\n",
    "len2 = len(recipeIg2)\n",
    "\n",
    "data3 = pd.read_json('data/recipes_raw_nosource_epi.json', orient = 'index')\n",
    "recipeIg2 = data2[['title','ingredients']]\n",
    "len2 = len(recipeIg2)\n"
   ]
  },
  {
   "cell_type": "code",
   "execution_count": null,
   "metadata": {},
   "outputs": [],
   "source": [
    "#Data URL: https://www.kaggle.com/kaggle/recipe-ingredients-dataset(Data set with cuisines)\n",
    "\n",
    "# Create URL to JSON file (alternatively this can be a filepath)\n",
    "url = 'train.json'\n",
    "\n",
    "# Load the first sheet of the JSON file into a data frame\n",
    "df = pd.read_json(url, orient='columns')\n",
    "\n",
    "ingredients_1 = df[['id','ingredients']]\n",
    "# View the first ten rows\n",
    "print(ingredients_1.head(10))\n",
    "len(ingredients_1)"
   ]
  },
  {
   "cell_type": "code",
   "execution_count": null,
   "metadata": {},
   "outputs": [],
   "source": [
    "#Data URL: https://www.kaggle.com/hugodarwood/epirecipes\n",
    "\n",
    "# Create URL to JSON file (alternatively this can be a filepath)\n",
    "url = 'full_format_recipes.json'\n",
    "\n",
    "# Load the first sheet of the JSON file into a data frame\n",
    "df = pd.read_json(url, orient='columns')\n",
    "\n",
    "ingredients_2 = df[['title','ingredients']]\n",
    "# View the first ten rows\n",
    "print(ingredients_2.head(10))\n",
    "print(len(ingredients_2))"
   ]
  }
 ],
 "metadata": {
  "kernelspec": {
   "display_name": "Python 3",
   "language": "python",
   "name": "python3"
  },
  "language_info": {
   "codemirror_mode": {
    "name": "ipython",
    "version": 3
   },
   "file_extension": ".py",
   "mimetype": "text/x-python",
   "name": "python",
   "nbconvert_exporter": "python",
   "pygments_lexer": "ipython3",
   "version": "3.7.4"
  }
 },
 "nbformat": 4,
 "nbformat_minor": 2
}
