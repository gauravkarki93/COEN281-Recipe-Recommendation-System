{
 "cells": [
  {
   "cell_type": "markdown",
   "metadata": {},
   "source": [
    "### Step 1.  Data Preprocessing ###"
   ]
  },
  {
   "cell_type": "code",
   "execution_count": 17,
   "execution_count": 1,
   "metadata": {},
   "outputs": [
    {
     "name": "stdout",
     "output_type": "stream",
     "text": [
      "nice\n"
     ]
    }
   ],
   "source": [
    "print(\"nice\")"
   ]
  },
  {
   "cell_type": "code",
   "execution_count": null,
   "metadata": {},
   "outputs": [],
   "source": [
    "# Header Files\n",
    "import pandas as pd\n",
    "import csv"
   ]
  },
  {
   "cell_type": "code",
   "execution_count": 20,
   "metadata": {},
   "outputs": [
    {
     "name": "stdout",
     "output_type": "stream",
     "text": [
      "No. of recipes =  231637\n",
      "                                         name  \\\n",
      "0  arriba   baked winter squash mexican style   \n",
      "1            a bit different  breakfast pizza   \n",
      "2                   all in the kitchen  chili   \n",
      "3                          alouette  potatoes   \n",
      "4          amish  tomato ketchup  for canning   \n",
      "5                     apple a day  milk shake   \n",
      "6                       aww  marinated olives   \n",
      "7              backyard style  barbecued ribs   \n",
      "8                    bananas 4 ice cream  pie   \n",
      "9                     beat this  banana bread   \n",
      "\n",
      "                                         ingredients  \n",
      "0  ['winter squash', 'mexican seasoning', 'mixed ...  \n",
      "1  ['prepared pizza crust', 'sausage patty', 'egg...  \n",
      "2  ['ground beef', 'yellow onions', 'diced tomato...  \n",
      "3  ['spreadable cheese with garlic and herbs', 'n...  \n",
      "4  ['tomato juice', 'apple cider vinegar', 'sugar...  \n",
      "5  ['milk', 'vanilla ice cream', 'frozen apple ju...  \n",
      "6  ['fennel seeds', 'green olives', 'ripe olives'...  \n",
      "7  ['pork spareribs', 'soy sauce', 'fresh garlic'...  \n",
      "8  ['chocolate sandwich style cookies', 'chocolat...  \n",
      "9  ['sugar', 'unsalted butter', 'bananas', 'eggs'...  \n"
     ]
    }
   ],
   "source": [
    "# Using Kaggle DataSet \n",
    "df = pd.read_csv('data/RAW_recipes.csv')\n",
    "recipeIngredients = df[['name','ingredients']]\n",
    "print(\"No. of recipes = \", len(recipeIngredients))\n",
    "print((recipeIngredients[0:10]))"
   ]
  },
  {
   "cell_type": "code",
   "execution_count": 19,
   "metadata": {},
   "outputs": [
    {
     "name": "stdout",
     "output_type": "stream",
     "text": [
      "                                                             title  \\\n",
      "rmK12Uau.ntP510KeImX506H6Mr6jTu  Slow Cooker Chicken and Dumplings   \n",
      "5ZpZE8hSVdPk2ZXo1mZTyoPWJRSCPSm      Awesome Slow Cooker Pot Roast   \n",
      "clyYQv.CplpwJtjNaFGhx0VilNYqRxu               Brown Sugar Meatloaf   \n",
      "BmqFAmCrDHiKNwX.IQzb0U/v0mLlxFu        Best Chocolate Chip Cookies   \n",
      "N.jCksRjB4MFwbgPFQU8Kg.yF.XCtOi  Homemade Mac and Cheese Casserole   \n",
      "kq.naD.8G19M4UU9dVvJgHtpfo.l/eC                Banana Banana Bread   \n",
      "lYrgWNn00EXblOupzM3tL0jGr9O0CB2        Chef John's Fisherman's Pie   \n",
      "Fu0DgGYFUGwc0BBlN6r20o/ihOVs5bO               Mom's Zucchini Bread   \n",
      "MBRNtqELRRuv8zJH4k7Aba2bmIc2A3C      The Best Rolled Sugar Cookies   \n",
      "ZPyPoMiNvgAfrKcRpH9FEYV/XsPZBsW              Singapore Chili Crabs   \n",
      "\n",
      "                                                                       ingredients  \n",
      "rmK12Uau.ntP510KeImX506H6Mr6jTu  [4 skinless, boneless chicken breast halves AD...  \n",
      "5ZpZE8hSVdPk2ZXo1mZTyoPWJRSCPSm  [2 (10.75 ounce) cans condensed cream of mushr...  \n",
      "clyYQv.CplpwJtjNaFGhx0VilNYqRxu  [1/2 cup packed brown sugar ADVERTISEMENT, 1/2...  \n",
      "BmqFAmCrDHiKNwX.IQzb0U/v0mLlxFu  [1 cup butter, softened ADVERTISEMENT, 1 cup w...  \n",
      "N.jCksRjB4MFwbgPFQU8Kg.yF.XCtOi  [8 ounces whole wheat rotini pasta ADVERTISEME...  \n",
      "kq.naD.8G19M4UU9dVvJgHtpfo.l/eC  [2 cups all-purpose flour ADVERTISEMENT, 1 tea...  \n",
      "lYrgWNn00EXblOupzM3tL0jGr9O0CB2  [For potato crust: ADVERTISEMENT, 3 russet pot...  \n",
      "Fu0DgGYFUGwc0BBlN6r20o/ihOVs5bO  [3 cups all-purpose flour ADVERTISEMENT, 1 tea...  \n",
      "MBRNtqELRRuv8zJH4k7Aba2bmIc2A3C  [1 1/2 cups butter, softened ADVERTISEMENT, 2 ...  \n",
      "ZPyPoMiNvgAfrKcRpH9FEYV/XsPZBsW  [Sauce: ADVERTISEMENT, 1/2 cup ketchup ADVERTI...  \n"
     ]
    }
   ],
   "source": [
    "#Using dataset from https://eightportions.com/datasets/Recipes/\n",
    "#Contains recipe name and list of ingredients used\n",
    "data1 = pd.read_json('data/recipes_raw_nosource_ar.json', orient = 'index')\n",
    "recipeIg1 = data1[['title','ingredients']]\n",
    "len1 = len(recipeIg1)\n",
    "\n",
    "data2 = pd.read_json('data/recipes_raw_nosource_epi.json', orient = 'index')\n",
    "recipeIg2 = data2[['title','ingredients']]\n",
    "len2 = len(recipeIg2)\n",
    "\n",
    "data3 = pd.read_json('data/recipes_raw_nosource_epi.json', orient = 'index')\n",
    "recipeIg2 = data2[['title','ingredients']]\n",
    "len2 = len(recipeIg2)\n"
   ]
  }
 ],
 "metadata": {
  "kernelspec": {
   "display_name": "Python 3",
   "language": "python",
   "name": "python3"
  },
  "language_info": {
   "codemirror_mode": {
    "name": "ipython",
    "version": 3
   },
   "file_extension": ".py",
   "mimetype": "text/x-python",
   "name": "python",
   "nbconvert_exporter": "python",
   "pygments_lexer": "ipython3",
   "version": "3.6.5"
  }
 },
 "nbformat": 4,
 "nbformat_minor": 2
}
