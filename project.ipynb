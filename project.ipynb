{
 "cells": [
  {
   "cell_type": "code",
   "execution_count": null,
   "metadata": {},
   "outputs": [],
   "source": [
    "# Header Files\n",
    "import pandas as pd\n",
    "import csv\n",
    "import numpy as np\n",
    "import scipy.sparse as sp\n",
    "from numpy.linalg import norm\n",
    "from collections import Counter, defaultdict\n",
    "from scipy.sparse import csr_matrix\n",
    "from nltk.stem import PorterStemmer\n",
    "from nltk.tokenize import sent_tokenize, word_tokenize\n",
    "from csv import DictReader\n",
    "from efficient_apriori import apriori as eff_app\n",
    "import ast\n",
    "from mlxtend.preprocessing import TransactionEncoder\n",
    "from nltk.stem import WordNetLemmatizer\n",
    "from mlxtend.frequent_patterns import apriori"
   ]
  },
  {
   "cell_type": "markdown",
   "metadata": {},
   "source": [
    "### Step 1.  Data Preprocessing ###"
   ]
  },
  {
   "cell_type": "code",
   "execution_count": null,
   "metadata": {},
   "outputs": [],
   "source": [
    "# Using Kaggle DataSet \n",
    "trainRecipe = []\n",
    "included_cols = [1, 10]\n",
    "count = 100000\n",
    "lemmatizer = WordNetLemmatizer() \n",
    "with open('C:/Users/Mayank/Documents/Project/RAW_recipes.csv', encoding=\"utf8\") as f:\n",
    "    read =csv.reader(f)\n",
    "    header = next(read)\n",
    "    for r in read:            \n",
    "        recipe = list(r[i] for i in included_cols)\n",
    "        #print(type(recipe[1])) '<class>, str'        \n",
    "        ingr = ast.literal_eval(recipe[1])\n",
    "        ingrStem = [' '.join(stem_tokens(tokenize(w))) for w in ingr]\n",
    "        trainRecipe.append(ingrStem)\n",
    "        count -= 1\n",
    "        if(count == 0):\n",
    "            break"
   ]
  },
  {
   "cell_type": "markdown",
   "metadata": {},
   "source": [
    "### Step 2. Apriori ###"
   ]
  },
  {
   "cell_type": "code",
   "execution_count": null,
   "metadata": {},
   "outputs": [],
   "source": [
    "itemsets, rules = eff_app(trainRecipe, min_support=0.2,  min_confidence=1)\n",
    "print((itemsets))\n",
    "print(\"Rules =>\", rules)"
   ]
  },
  {
   "cell_type": "code",
   "execution_count": null,
   "metadata": {},
   "outputs": [],
   "source": [
    "print(len(trainRecipe+training_set))\n",
    "comb = trainRecipe+training_set\n",
    "print(comb[99998:100005])"
   ]
  },
  {
   "cell_type": "code",
   "execution_count": null,
   "metadata": {
    "scrolled": true
   },
   "outputs": [],
   "source": [
    "from itertools import chain\n",
    "c = Counter(chain.from_iterable(comb)).most_common()[:-30-1:-1]\n",
    "print(\"c = \",c)\n",
    "\n",
    "te = TransactionEncoder()\n",
    "\n",
    "te_ary = te.fit(comb).transform(comb)\n",
    "\n",
    "df = pd.DataFrame(te_ary, columns=te.columns_)\n",
    "#print((df.columns))\n",
    "cls2 = apriori(df, min_support=0.1, use_colnames = True)\n",
    "#print((cls2))\n",
    "#print(df)\n",
    "#print(df[cls2['itemsets']])"
   ]
  },
  {
   "cell_type": "code",
   "execution_count": null,
   "metadata": {},
   "outputs": [],
   "source": [
    "def stem_tokens(tokens):\n",
    "    stemmed_items = []\n",
    "    for items in tokens:\n",
    "        stemmed_items.append(lemmatizer.lemmatize(items))\n",
    "    return stemmed_items\n",
    "\n",
    "def tokenize(text):\n",
    "    \n",
    "    tokens = nltk.word_tokenize(text)\n",
    "    stems = stem_tokens(tokens)\n",
    "    return stems\n",
    "\n",
    "import nltk\n",
    "str1 = \"ziplock bags\"  \n",
    "tok = tokenize(str1)\n",
    "print(' '.join(stem_tokens(tok)))"
   ]
  },
  {
   "cell_type": "code",
   "execution_count": null,
   "metadata": {},
   "outputs": [],
   "source": [
    "\n",
    "import nltk\n",
    "nltk.download('wordnet')"
   ]
  },
  {
   "cell_type": "code",
   "execution_count": null,
   "metadata": {},
   "outputs": [],
   "source": [
    "def build_matrix(docs):\n",
    "    r\"\"\" Build sparse matrix from a list of documents, \n",
    "    each of which is a list of word/terms in the document.  \n",
    "    \"\"\"\n",
    "    nrows = len(docs)\n",
    "    idx = {}\n",
    "    tid = 0\n",
    "    nnz = 0\n",
    "    for d in docs:\n",
    "        nnz += len(set(d))\n",
    "        for w in d:\n",
    "            if w not in idx:\n",
    "                idx[w] = tid\n",
    "                tid += 1\n",
    "    ncols = len(idx)\n",
    "        \n",
    "    # set up memory\n",
    "    ind = np.zeros(nnz, dtype=np.int)\n",
    "    val = np.zeros(nnz, dtype=np.double)\n",
    "    ptr = np.zeros(nrows+1, dtype=np.int)\n",
    "    i = 0  # document ID / row counter\n",
    "    n = 0  # non-zero counter\n",
    "    # transfer values\n",
    "    for d in docs:\n",
    "        cnt = Counter(d)\n",
    "        keys = list(k for k,_ in cnt.most_common())\n",
    "        l = len(keys)\n",
    "        for j,k in enumerate(keys):\n",
    "            ind[j+n] = idx[k]\n",
    "            val[j+n] = cnt[k]\n",
    "        ptr[i+1] = ptr[i] + l\n",
    "        n += l\n",
    "        i += 1\n",
    "            \n",
    "    mat = csr_matrix((val, ind, ptr), shape=(nrows, ncols), dtype=np.double)\n",
    "    mat.sort_indices()\n",
    "    \n",
    "    return mat, idx\n",
    "\n",
    "def csr_info(mat, name=\"\", non_empy=False):\n",
    "    r\"\"\" Print out info about this CSR matrix. If non_empy, \n",
    "    report number of non-empty rows and cols as well\n",
    "    \"\"\"\n",
    "    if non_empy:\n",
    "        print(\"%s [nrows %d (%d non-empty), ncols %d (%d non-empty), nnz %d]\" % (\n",
    "                name, mat.shape[0], \n",
    "                sum(1 if mat.indptr[i+1] > mat.indptr[i] else 0 \n",
    "                for i in range(mat.shape[0])), \n",
    "                mat.shape[1], len(np.unique(mat.indices)), \n",
    "                len(mat.data)))\n",
    "    else:\n",
    "        print( \"%s [nrows %d, ncols %d, nnz %d]\" % (name, \n",
    "                mat.shape[0], mat.shape[1], len(mat.data)) )\n",
    "\n",
    "def csr_l2normalize(mat, copy=False, **kargs):\n",
    "    r\"\"\" Normalize the rows of a CSR matrix by their L-2 norm. \n",
    "    If copy is True, returns a copy of the normalized matrix.\n",
    "    \"\"\"\n",
    "    if copy is True:\n",
    "        mat = mat.copy()\n",
    "    nrows = mat.shape[0]\n",
    "    nnz = mat.nnz\n",
    "    ind, val, ptr = mat.indices, mat.data, mat.indptr\n",
    "    # normalize\n",
    "    for i in range(nrows):\n",
    "        rsum = 0.0    \n",
    "        for j in range(ptr[i], ptr[i+1]):\n",
    "            rsum += val[j]**2\n",
    "        if rsum == 0.0:\n",
    "            continue  # do not normalize empty rows\n",
    "        rsum = 1.0/np.sqrt(rsum)\n",
    "        for j in range(ptr[i], ptr[i+1]):\n",
    "            val[j] *= rsum\n",
    "            \n",
    "    if copy is True:\n",
    "        return mat"
   ]
  },
  {
   "cell_type": "code",
   "execution_count": null,
   "metadata": {},
   "outputs": [],
   "source": [
    "#Using dataset from https://eightportions.com/datasets/Recipes/\n",
    "#Contains recipe name and list of ingredients used\n",
    "data1 = pd.read_json('data/recipes_raw_nosource_ar.json', orient = 'index')\n",
    "recipeIg1 = data1[['title','ingredients']]\n",
    "len1 = len(recipeIg1)\n",
    "\n",
    "data2 = pd.read_json('data/recipes_raw_nosource_epi.json', orient = 'index')\n",
    "recipeIg2 = data2[['title','ingredients']]\n",
    "len2 = len(recipeIg2)\n",
    "\n",
    "data3 = pd.read_json('data/recipes_raw_nosource_epi.json', orient = 'index')\n",
    "recipeIg2 = data2[['title','ingredients']]\n",
    "len3 = len(recipeIg2)\n"
   ]
  },
  {
   "cell_type": "code",
   "execution_count": null,
   "metadata": {},
   "outputs": [],
   "source": [
    "#Data URL: https://www.kaggle.com/kaggle/recipe-ingredients-dataset(Data set with cuisines)\n",
    "\n",
    "# Create URL to JSON file (alternatively this can be a filepath)\n",
    "url = 'C:/Users/Mayank/Documents/Project/train.json'\n",
    "\n",
    "# Load the first sheet of the JSON file into a data frame\n",
    "df = pd.read_json(url, orient='columns')\n",
    "\n",
    "ingredients_1 = df['ingredients']\n",
    "# View the first ten rows\n",
    "train_list = ingredients_1.values.tolist()\n",
    "print(train_list[0:10])\n",
    "print(ingredients_1.head(10))\n",
    "len(ingredients_1)\n",
    "training_set = []\n",
    "for ingr in ingredients_1:\n",
    "    ingrStem = [' '.join(stem_tokens(tokenize(w))) for w in ingr]\n",
    "    training_set.append(ingrStem)"
   ]
  },
  {
   "cell_type": "code",
   "execution_count": null,
   "metadata": {},
   "outputs": [],
   "source": [
    "te = TransactionEncoder()\n",
    "te_ary = te.fit(train_list).transform(train_list)\n",
    "df = pd.DataFrame(te_ary, columns=te.columns_)\n",
    "#print((df.columns))\n",
    "cls2 = apriori(df, min_support=0.1, use_colnames = True)\n",
    "print((cls2))\n",
    "#print(df)\n",
    "#print(df[cls2['itemsets']])"
   ]
  },
  {
   "cell_type": "code",
   "execution_count": null,
   "metadata": {},
   "outputs": [],
   "source": [
    "#Data URL: https://www.kaggle.com/hugodarwood/epirecipes\n",
    "\n",
    "# Create URL to JSON file (alternatively this can be a filepath)\n",
    "url = 'full_format_recipes.json'\n",
    "\n",
    "# Load the first sheet of the JSON file into a data frame\n",
    "df = pd.read_json(url, orient='columns')\n",
    "\n",
    "ingredients_2 = df[['title','ingredients']]\n",
    "# View the first ten rows\n",
    "print(ingredients_2.head(10))\n",
    "print(len(ingredients_2))"
   ]
  },
  {
   "cell_type": "code",
   "execution_count": null,
   "metadata": {},
   "outputs": [],
   "source": [
    "# save np.load\n",
    "np_load_old = np.load\n",
    "\n",
    "# modify the default parameters of np.load\n",
    "np.load = lambda *a,**k: np_load_old(*a, allow_pickle=True, **k)\n",
    "\n",
    "with np.load('C:/Users/Mayank/Documents/Project/simplified-recipes-1M.npz') as data:\n",
    "    recipes = data['recipes']\n",
    "    ingredients = data['ingredients']"
   ]
  },
  {
   "cell_type": "code",
   "execution_count": null,
   "metadata": {},
   "outputs": [],
   "source": [
    "ingrlist = []\n",
    "counter = 0\n",
    "for recipe in recipes:\n",
    "    if(recipe.size) == 0:\n",
    "        continue\n",
    "    ingrlist.append(ingredients[recipe])\n",
    "    counter += 1\n",
    "    #break\n",
    "\n",
    "print(counter)\n",
    "#ingredients[recipes[0]]\n",
    "#print(ingrlist)"
   ]
  },
  {
   "cell_type": "code",
   "execution_count": null,
   "metadata": {},
   "outputs": [],
   "source": [
    "te = TransactionEncoder()\n",
    "te_ary = te.fit(ingrlist).transform(ingrlist)\n",
    "df = pd.DataFrame(te_ary, columns=te.columns_)\n",
    "#print((df.columns))\n",
    "cls2 = apriori(df, min_support=0.2, use_colnames = True)\n",
    "print((cls2))"
   ]
  },
  {
   "cell_type": "code",
   "execution_count": null,
   "metadata": {},
   "outputs": [],
   "source": [
    "itemsets, rules = eff_app(ingrlist, min_support=0.08,  min_confidence=0.3)\n",
    "print((itemsets))\n",
    "print(\"Rules =>\", rules)"
   ]
  }
 ],
 "metadata": {
  "kernelspec": {
   "display_name": "Python 3",
   "language": "python",
   "name": "python3"
  },
  "language_info": {
   "codemirror_mode": {
    "name": "ipython",
    "version": 3
   },
   "file_extension": ".py",
   "mimetype": "text/x-python",
   "name": "python",
   "nbconvert_exporter": "python",
   "pygments_lexer": "ipython3",
   "version": "3.7.4"
  }
 },
 "nbformat": 4,
 "nbformat_minor": 2
}
